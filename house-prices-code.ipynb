{
 "cells": [
  {
   "cell_type": "markdown",
   "id": "df9172ff",
   "metadata": {
    "_cell_guid": "b1076dfc-b9ad-4769-8c92-a6c4dae69d19",
    "_uuid": "8f2839f25d086af736a60e9eeb907d3b93b6e0e5",
    "papermill": {
     "duration": 0.008339,
     "end_time": "2023-02-02T12:58:24.410115",
     "exception": false,
     "start_time": "2023-02-02T12:58:24.401776",
     "status": "completed"
    },
    "tags": []
   },
   "source": [
    "Import some packages that will be helpful to begin with"
   ]
  },
  {
   "cell_type": "code",
   "execution_count": 1,
   "id": "ced33717",
   "metadata": {
    "execution": {
     "iopub.execute_input": "2023-02-02T12:58:24.427347Z",
     "iopub.status.busy": "2023-02-02T12:58:24.426479Z",
     "iopub.status.idle": "2023-02-02T12:58:25.683301Z",
     "shell.execute_reply": "2023-02-02T12:58:25.681883Z"
    },
    "papermill": {
     "duration": 1.269228,
     "end_time": "2023-02-02T12:58:25.686703",
     "exception": false,
     "start_time": "2023-02-02T12:58:24.417475",
     "status": "completed"
    },
    "tags": []
   },
   "outputs": [],
   "source": [
    "import numpy as np\n",
    "import pandas as pd\n",
    "import matplotlib.pyplot as plt\n",
    "import seaborn as sns"
   ]
  },
  {
   "cell_type": "markdown",
   "id": "3e91a9a9",
   "metadata": {
    "papermill": {
     "duration": 0.006726,
     "end_time": "2023-02-02T12:58:25.700748",
     "exception": false,
     "start_time": "2023-02-02T12:58:25.694022",
     "status": "completed"
    },
    "tags": []
   },
   "source": [
    "Import the datasets into dataframes using pandas"
   ]
  },
  {
   "cell_type": "code",
   "execution_count": 2,
   "id": "22bb1355",
   "metadata": {
    "execution": {
     "iopub.execute_input": "2023-02-02T12:58:25.718378Z",
     "iopub.status.busy": "2023-02-02T12:58:25.717014Z",
     "iopub.status.idle": "2023-02-02T12:58:25.818163Z",
     "shell.execute_reply": "2023-02-02T12:58:25.816800Z"
    },
    "papermill": {
     "duration": 0.113078,
     "end_time": "2023-02-02T12:58:25.821486",
     "exception": false,
     "start_time": "2023-02-02T12:58:25.708408",
     "status": "completed"
    },
    "tags": []
   },
   "outputs": [],
   "source": [
    "dftrain = pd.read_csv(\"/kaggle/input/house-prices-advanced-regression-techniques/train.csv\")\n",
    "dftest = pd.read_csv(\"/kaggle/input/house-prices-advanced-regression-techniques/test.csv\")\n",
    "submission = pd.read_csv(\"/kaggle/input/house-prices-advanced-regression-techniques/sample_submission.csv\")"
   ]
  },
  {
   "cell_type": "code",
   "execution_count": 3,
   "id": "889ec26f",
   "metadata": {
    "execution": {
     "iopub.execute_input": "2023-02-02T12:58:25.837673Z",
     "iopub.status.busy": "2023-02-02T12:58:25.837259Z",
     "iopub.status.idle": "2023-02-02T12:58:25.881425Z",
     "shell.execute_reply": "2023-02-02T12:58:25.880244Z"
    },
    "papermill": {
     "duration": 0.055444,
     "end_time": "2023-02-02T12:58:25.884232",
     "exception": false,
     "start_time": "2023-02-02T12:58:25.828788",
     "status": "completed"
    },
    "tags": []
   },
   "outputs": [
    {
     "data": {
      "text/html": [
       "<div>\n",
       "<style scoped>\n",
       "    .dataframe tbody tr th:only-of-type {\n",
       "        vertical-align: middle;\n",
       "    }\n",
       "\n",
       "    .dataframe tbody tr th {\n",
       "        vertical-align: top;\n",
       "    }\n",
       "\n",
       "    .dataframe thead th {\n",
       "        text-align: right;\n",
       "    }\n",
       "</style>\n",
       "<table border=\"1\" class=\"dataframe\">\n",
       "  <thead>\n",
       "    <tr style=\"text-align: right;\">\n",
       "      <th></th>\n",
       "      <th>Id</th>\n",
       "      <th>MSSubClass</th>\n",
       "      <th>MSZoning</th>\n",
       "      <th>LotFrontage</th>\n",
       "      <th>LotArea</th>\n",
       "      <th>Street</th>\n",
       "      <th>Alley</th>\n",
       "      <th>LotShape</th>\n",
       "      <th>LandContour</th>\n",
       "      <th>Utilities</th>\n",
       "      <th>...</th>\n",
       "      <th>PoolArea</th>\n",
       "      <th>PoolQC</th>\n",
       "      <th>Fence</th>\n",
       "      <th>MiscFeature</th>\n",
       "      <th>MiscVal</th>\n",
       "      <th>MoSold</th>\n",
       "      <th>YrSold</th>\n",
       "      <th>SaleType</th>\n",
       "      <th>SaleCondition</th>\n",
       "      <th>SalePrice</th>\n",
       "    </tr>\n",
       "  </thead>\n",
       "  <tbody>\n",
       "    <tr>\n",
       "      <th>0</th>\n",
       "      <td>1</td>\n",
       "      <td>60</td>\n",
       "      <td>RL</td>\n",
       "      <td>65.0</td>\n",
       "      <td>8450</td>\n",
       "      <td>Pave</td>\n",
       "      <td>NaN</td>\n",
       "      <td>Reg</td>\n",
       "      <td>Lvl</td>\n",
       "      <td>AllPub</td>\n",
       "      <td>...</td>\n",
       "      <td>0</td>\n",
       "      <td>NaN</td>\n",
       "      <td>NaN</td>\n",
       "      <td>NaN</td>\n",
       "      <td>0</td>\n",
       "      <td>2</td>\n",
       "      <td>2008</td>\n",
       "      <td>WD</td>\n",
       "      <td>Normal</td>\n",
       "      <td>208500</td>\n",
       "    </tr>\n",
       "    <tr>\n",
       "      <th>1</th>\n",
       "      <td>2</td>\n",
       "      <td>20</td>\n",
       "      <td>RL</td>\n",
       "      <td>80.0</td>\n",
       "      <td>9600</td>\n",
       "      <td>Pave</td>\n",
       "      <td>NaN</td>\n",
       "      <td>Reg</td>\n",
       "      <td>Lvl</td>\n",
       "      <td>AllPub</td>\n",
       "      <td>...</td>\n",
       "      <td>0</td>\n",
       "      <td>NaN</td>\n",
       "      <td>NaN</td>\n",
       "      <td>NaN</td>\n",
       "      <td>0</td>\n",
       "      <td>5</td>\n",
       "      <td>2007</td>\n",
       "      <td>WD</td>\n",
       "      <td>Normal</td>\n",
       "      <td>181500</td>\n",
       "    </tr>\n",
       "    <tr>\n",
       "      <th>2</th>\n",
       "      <td>3</td>\n",
       "      <td>60</td>\n",
       "      <td>RL</td>\n",
       "      <td>68.0</td>\n",
       "      <td>11250</td>\n",
       "      <td>Pave</td>\n",
       "      <td>NaN</td>\n",
       "      <td>IR1</td>\n",
       "      <td>Lvl</td>\n",
       "      <td>AllPub</td>\n",
       "      <td>...</td>\n",
       "      <td>0</td>\n",
       "      <td>NaN</td>\n",
       "      <td>NaN</td>\n",
       "      <td>NaN</td>\n",
       "      <td>0</td>\n",
       "      <td>9</td>\n",
       "      <td>2008</td>\n",
       "      <td>WD</td>\n",
       "      <td>Normal</td>\n",
       "      <td>223500</td>\n",
       "    </tr>\n",
       "    <tr>\n",
       "      <th>3</th>\n",
       "      <td>4</td>\n",
       "      <td>70</td>\n",
       "      <td>RL</td>\n",
       "      <td>60.0</td>\n",
       "      <td>9550</td>\n",
       "      <td>Pave</td>\n",
       "      <td>NaN</td>\n",
       "      <td>IR1</td>\n",
       "      <td>Lvl</td>\n",
       "      <td>AllPub</td>\n",
       "      <td>...</td>\n",
       "      <td>0</td>\n",
       "      <td>NaN</td>\n",
       "      <td>NaN</td>\n",
       "      <td>NaN</td>\n",
       "      <td>0</td>\n",
       "      <td>2</td>\n",
       "      <td>2006</td>\n",
       "      <td>WD</td>\n",
       "      <td>Abnorml</td>\n",
       "      <td>140000</td>\n",
       "    </tr>\n",
       "    <tr>\n",
       "      <th>4</th>\n",
       "      <td>5</td>\n",
       "      <td>60</td>\n",
       "      <td>RL</td>\n",
       "      <td>84.0</td>\n",
       "      <td>14260</td>\n",
       "      <td>Pave</td>\n",
       "      <td>NaN</td>\n",
       "      <td>IR1</td>\n",
       "      <td>Lvl</td>\n",
       "      <td>AllPub</td>\n",
       "      <td>...</td>\n",
       "      <td>0</td>\n",
       "      <td>NaN</td>\n",
       "      <td>NaN</td>\n",
       "      <td>NaN</td>\n",
       "      <td>0</td>\n",
       "      <td>12</td>\n",
       "      <td>2008</td>\n",
       "      <td>WD</td>\n",
       "      <td>Normal</td>\n",
       "      <td>250000</td>\n",
       "    </tr>\n",
       "  </tbody>\n",
       "</table>\n",
       "<p>5 rows × 81 columns</p>\n",
       "</div>"
      ],
      "text/plain": [
       "   Id  MSSubClass MSZoning  LotFrontage  LotArea Street Alley LotShape  \\\n",
       "0   1          60       RL         65.0     8450   Pave   NaN      Reg   \n",
       "1   2          20       RL         80.0     9600   Pave   NaN      Reg   \n",
       "2   3          60       RL         68.0    11250   Pave   NaN      IR1   \n",
       "3   4          70       RL         60.0     9550   Pave   NaN      IR1   \n",
       "4   5          60       RL         84.0    14260   Pave   NaN      IR1   \n",
       "\n",
       "  LandContour Utilities  ... PoolArea PoolQC Fence MiscFeature MiscVal MoSold  \\\n",
       "0         Lvl    AllPub  ...        0    NaN   NaN         NaN       0      2   \n",
       "1         Lvl    AllPub  ...        0    NaN   NaN         NaN       0      5   \n",
       "2         Lvl    AllPub  ...        0    NaN   NaN         NaN       0      9   \n",
       "3         Lvl    AllPub  ...        0    NaN   NaN         NaN       0      2   \n",
       "4         Lvl    AllPub  ...        0    NaN   NaN         NaN       0     12   \n",
       "\n",
       "  YrSold  SaleType  SaleCondition  SalePrice  \n",
       "0   2008        WD         Normal     208500  \n",
       "1   2007        WD         Normal     181500  \n",
       "2   2008        WD         Normal     223500  \n",
       "3   2006        WD        Abnorml     140000  \n",
       "4   2008        WD         Normal     250000  \n",
       "\n",
       "[5 rows x 81 columns]"
      ]
     },
     "metadata": {},
     "output_type": "display_data"
    },
    {
     "data": {
      "text/plain": [
       "(1460, 81)"
      ]
     },
     "execution_count": 3,
     "metadata": {},
     "output_type": "execute_result"
    }
   ],
   "source": [
    "display(dftrain.head())\n",
    "dftrain.shape"
   ]
  },
  {
   "cell_type": "markdown",
   "id": "a7211c87",
   "metadata": {
    "papermill": {
     "duration": 0.006892,
     "end_time": "2023-02-02T12:58:25.898643",
     "exception": false,
     "start_time": "2023-02-02T12:58:25.891751",
     "status": "completed"
    },
    "tags": []
   },
   "source": [
    "Find columns with lots of missing values and remove from dataset"
   ]
  },
  {
   "cell_type": "code",
   "execution_count": 4,
   "id": "83eef56c",
   "metadata": {
    "execution": {
     "iopub.execute_input": "2023-02-02T12:58:25.915591Z",
     "iopub.status.busy": "2023-02-02T12:58:25.914531Z",
     "iopub.status.idle": "2023-02-02T12:58:25.928388Z",
     "shell.execute_reply": "2023-02-02T12:58:25.926651Z"
    },
    "papermill": {
     "duration": 0.025706,
     "end_time": "2023-02-02T12:58:25.931608",
     "exception": false,
     "start_time": "2023-02-02T12:58:25.905902",
     "status": "completed"
    },
    "tags": []
   },
   "outputs": [
    {
     "name": "stdout",
     "output_type": "stream",
     "text": [
      "FireplaceQu     690\n",
      "Fence          1179\n",
      "Alley          1369\n",
      "MiscFeature    1406\n",
      "PoolQC         1453\n",
      "dtype: int64\n"
     ]
    }
   ],
   "source": [
    "missing = dftrain.isnull().sum()\n",
    "missing = missing[missing > 400]\n",
    "missing.sort_values(inplace = True)\n",
    "print(missing)"
   ]
  },
  {
   "cell_type": "code",
   "execution_count": 5,
   "id": "2fbe999f",
   "metadata": {
    "execution": {
     "iopub.execute_input": "2023-02-02T12:58:25.949394Z",
     "iopub.status.busy": "2023-02-02T12:58:25.948953Z",
     "iopub.status.idle": "2023-02-02T12:58:25.956666Z",
     "shell.execute_reply": "2023-02-02T12:58:25.955387Z"
    },
    "papermill": {
     "duration": 0.01937,
     "end_time": "2023-02-02T12:58:25.959053",
     "exception": false,
     "start_time": "2023-02-02T12:58:25.939683",
     "status": "completed"
    },
    "tags": []
   },
   "outputs": [
    {
     "data": {
      "text/plain": [
       "array(['FireplaceQu', 'Fence', 'Alley', 'MiscFeature', 'PoolQC'],\n",
       "      dtype=object)"
      ]
     },
     "execution_count": 5,
     "metadata": {},
     "output_type": "execute_result"
    }
   ],
   "source": [
    "c = missing.index\n",
    "np.array(c)"
   ]
  },
  {
   "cell_type": "code",
   "execution_count": 6,
   "id": "bb9175ac",
   "metadata": {
    "execution": {
     "iopub.execute_input": "2023-02-02T12:58:25.977387Z",
     "iopub.status.busy": "2023-02-02T12:58:25.976932Z",
     "iopub.status.idle": "2023-02-02T12:58:26.016618Z",
     "shell.execute_reply": "2023-02-02T12:58:26.015668Z"
    },
    "papermill": {
     "duration": 0.05119,
     "end_time": "2023-02-02T12:58:26.018978",
     "exception": false,
     "start_time": "2023-02-02T12:58:25.967788",
     "status": "completed"
    },
    "tags": []
   },
   "outputs": [
    {
     "data": {
      "text/html": [
       "<div>\n",
       "<style scoped>\n",
       "    .dataframe tbody tr th:only-of-type {\n",
       "        vertical-align: middle;\n",
       "    }\n",
       "\n",
       "    .dataframe tbody tr th {\n",
       "        vertical-align: top;\n",
       "    }\n",
       "\n",
       "    .dataframe thead th {\n",
       "        text-align: right;\n",
       "    }\n",
       "</style>\n",
       "<table border=\"1\" class=\"dataframe\">\n",
       "  <thead>\n",
       "    <tr style=\"text-align: right;\">\n",
       "      <th></th>\n",
       "      <th>Id</th>\n",
       "      <th>MSSubClass</th>\n",
       "      <th>MSZoning</th>\n",
       "      <th>LotFrontage</th>\n",
       "      <th>LotArea</th>\n",
       "      <th>Street</th>\n",
       "      <th>LotShape</th>\n",
       "      <th>LandContour</th>\n",
       "      <th>Utilities</th>\n",
       "      <th>LotConfig</th>\n",
       "      <th>...</th>\n",
       "      <th>EnclosedPorch</th>\n",
       "      <th>3SsnPorch</th>\n",
       "      <th>ScreenPorch</th>\n",
       "      <th>PoolArea</th>\n",
       "      <th>MiscVal</th>\n",
       "      <th>MoSold</th>\n",
       "      <th>YrSold</th>\n",
       "      <th>SaleType</th>\n",
       "      <th>SaleCondition</th>\n",
       "      <th>SalePrice</th>\n",
       "    </tr>\n",
       "  </thead>\n",
       "  <tbody>\n",
       "    <tr>\n",
       "      <th>0</th>\n",
       "      <td>1</td>\n",
       "      <td>60</td>\n",
       "      <td>RL</td>\n",
       "      <td>65.0</td>\n",
       "      <td>8450</td>\n",
       "      <td>Pave</td>\n",
       "      <td>Reg</td>\n",
       "      <td>Lvl</td>\n",
       "      <td>AllPub</td>\n",
       "      <td>Inside</td>\n",
       "      <td>...</td>\n",
       "      <td>0</td>\n",
       "      <td>0</td>\n",
       "      <td>0</td>\n",
       "      <td>0</td>\n",
       "      <td>0</td>\n",
       "      <td>2</td>\n",
       "      <td>2008</td>\n",
       "      <td>WD</td>\n",
       "      <td>Normal</td>\n",
       "      <td>208500</td>\n",
       "    </tr>\n",
       "    <tr>\n",
       "      <th>1</th>\n",
       "      <td>2</td>\n",
       "      <td>20</td>\n",
       "      <td>RL</td>\n",
       "      <td>80.0</td>\n",
       "      <td>9600</td>\n",
       "      <td>Pave</td>\n",
       "      <td>Reg</td>\n",
       "      <td>Lvl</td>\n",
       "      <td>AllPub</td>\n",
       "      <td>FR2</td>\n",
       "      <td>...</td>\n",
       "      <td>0</td>\n",
       "      <td>0</td>\n",
       "      <td>0</td>\n",
       "      <td>0</td>\n",
       "      <td>0</td>\n",
       "      <td>5</td>\n",
       "      <td>2007</td>\n",
       "      <td>WD</td>\n",
       "      <td>Normal</td>\n",
       "      <td>181500</td>\n",
       "    </tr>\n",
       "    <tr>\n",
       "      <th>2</th>\n",
       "      <td>3</td>\n",
       "      <td>60</td>\n",
       "      <td>RL</td>\n",
       "      <td>68.0</td>\n",
       "      <td>11250</td>\n",
       "      <td>Pave</td>\n",
       "      <td>IR1</td>\n",
       "      <td>Lvl</td>\n",
       "      <td>AllPub</td>\n",
       "      <td>Inside</td>\n",
       "      <td>...</td>\n",
       "      <td>0</td>\n",
       "      <td>0</td>\n",
       "      <td>0</td>\n",
       "      <td>0</td>\n",
       "      <td>0</td>\n",
       "      <td>9</td>\n",
       "      <td>2008</td>\n",
       "      <td>WD</td>\n",
       "      <td>Normal</td>\n",
       "      <td>223500</td>\n",
       "    </tr>\n",
       "    <tr>\n",
       "      <th>3</th>\n",
       "      <td>4</td>\n",
       "      <td>70</td>\n",
       "      <td>RL</td>\n",
       "      <td>60.0</td>\n",
       "      <td>9550</td>\n",
       "      <td>Pave</td>\n",
       "      <td>IR1</td>\n",
       "      <td>Lvl</td>\n",
       "      <td>AllPub</td>\n",
       "      <td>Corner</td>\n",
       "      <td>...</td>\n",
       "      <td>272</td>\n",
       "      <td>0</td>\n",
       "      <td>0</td>\n",
       "      <td>0</td>\n",
       "      <td>0</td>\n",
       "      <td>2</td>\n",
       "      <td>2006</td>\n",
       "      <td>WD</td>\n",
       "      <td>Abnorml</td>\n",
       "      <td>140000</td>\n",
       "    </tr>\n",
       "    <tr>\n",
       "      <th>4</th>\n",
       "      <td>5</td>\n",
       "      <td>60</td>\n",
       "      <td>RL</td>\n",
       "      <td>84.0</td>\n",
       "      <td>14260</td>\n",
       "      <td>Pave</td>\n",
       "      <td>IR1</td>\n",
       "      <td>Lvl</td>\n",
       "      <td>AllPub</td>\n",
       "      <td>FR2</td>\n",
       "      <td>...</td>\n",
       "      <td>0</td>\n",
       "      <td>0</td>\n",
       "      <td>0</td>\n",
       "      <td>0</td>\n",
       "      <td>0</td>\n",
       "      <td>12</td>\n",
       "      <td>2008</td>\n",
       "      <td>WD</td>\n",
       "      <td>Normal</td>\n",
       "      <td>250000</td>\n",
       "    </tr>\n",
       "    <tr>\n",
       "      <th>...</th>\n",
       "      <td>...</td>\n",
       "      <td>...</td>\n",
       "      <td>...</td>\n",
       "      <td>...</td>\n",
       "      <td>...</td>\n",
       "      <td>...</td>\n",
       "      <td>...</td>\n",
       "      <td>...</td>\n",
       "      <td>...</td>\n",
       "      <td>...</td>\n",
       "      <td>...</td>\n",
       "      <td>...</td>\n",
       "      <td>...</td>\n",
       "      <td>...</td>\n",
       "      <td>...</td>\n",
       "      <td>...</td>\n",
       "      <td>...</td>\n",
       "      <td>...</td>\n",
       "      <td>...</td>\n",
       "      <td>...</td>\n",
       "      <td>...</td>\n",
       "    </tr>\n",
       "    <tr>\n",
       "      <th>1455</th>\n",
       "      <td>1456</td>\n",
       "      <td>60</td>\n",
       "      <td>RL</td>\n",
       "      <td>62.0</td>\n",
       "      <td>7917</td>\n",
       "      <td>Pave</td>\n",
       "      <td>Reg</td>\n",
       "      <td>Lvl</td>\n",
       "      <td>AllPub</td>\n",
       "      <td>Inside</td>\n",
       "      <td>...</td>\n",
       "      <td>0</td>\n",
       "      <td>0</td>\n",
       "      <td>0</td>\n",
       "      <td>0</td>\n",
       "      <td>0</td>\n",
       "      <td>8</td>\n",
       "      <td>2007</td>\n",
       "      <td>WD</td>\n",
       "      <td>Normal</td>\n",
       "      <td>175000</td>\n",
       "    </tr>\n",
       "    <tr>\n",
       "      <th>1456</th>\n",
       "      <td>1457</td>\n",
       "      <td>20</td>\n",
       "      <td>RL</td>\n",
       "      <td>85.0</td>\n",
       "      <td>13175</td>\n",
       "      <td>Pave</td>\n",
       "      <td>Reg</td>\n",
       "      <td>Lvl</td>\n",
       "      <td>AllPub</td>\n",
       "      <td>Inside</td>\n",
       "      <td>...</td>\n",
       "      <td>0</td>\n",
       "      <td>0</td>\n",
       "      <td>0</td>\n",
       "      <td>0</td>\n",
       "      <td>0</td>\n",
       "      <td>2</td>\n",
       "      <td>2010</td>\n",
       "      <td>WD</td>\n",
       "      <td>Normal</td>\n",
       "      <td>210000</td>\n",
       "    </tr>\n",
       "    <tr>\n",
       "      <th>1457</th>\n",
       "      <td>1458</td>\n",
       "      <td>70</td>\n",
       "      <td>RL</td>\n",
       "      <td>66.0</td>\n",
       "      <td>9042</td>\n",
       "      <td>Pave</td>\n",
       "      <td>Reg</td>\n",
       "      <td>Lvl</td>\n",
       "      <td>AllPub</td>\n",
       "      <td>Inside</td>\n",
       "      <td>...</td>\n",
       "      <td>0</td>\n",
       "      <td>0</td>\n",
       "      <td>0</td>\n",
       "      <td>0</td>\n",
       "      <td>2500</td>\n",
       "      <td>5</td>\n",
       "      <td>2010</td>\n",
       "      <td>WD</td>\n",
       "      <td>Normal</td>\n",
       "      <td>266500</td>\n",
       "    </tr>\n",
       "    <tr>\n",
       "      <th>1458</th>\n",
       "      <td>1459</td>\n",
       "      <td>20</td>\n",
       "      <td>RL</td>\n",
       "      <td>68.0</td>\n",
       "      <td>9717</td>\n",
       "      <td>Pave</td>\n",
       "      <td>Reg</td>\n",
       "      <td>Lvl</td>\n",
       "      <td>AllPub</td>\n",
       "      <td>Inside</td>\n",
       "      <td>...</td>\n",
       "      <td>112</td>\n",
       "      <td>0</td>\n",
       "      <td>0</td>\n",
       "      <td>0</td>\n",
       "      <td>0</td>\n",
       "      <td>4</td>\n",
       "      <td>2010</td>\n",
       "      <td>WD</td>\n",
       "      <td>Normal</td>\n",
       "      <td>142125</td>\n",
       "    </tr>\n",
       "    <tr>\n",
       "      <th>1459</th>\n",
       "      <td>1460</td>\n",
       "      <td>20</td>\n",
       "      <td>RL</td>\n",
       "      <td>75.0</td>\n",
       "      <td>9937</td>\n",
       "      <td>Pave</td>\n",
       "      <td>Reg</td>\n",
       "      <td>Lvl</td>\n",
       "      <td>AllPub</td>\n",
       "      <td>Inside</td>\n",
       "      <td>...</td>\n",
       "      <td>0</td>\n",
       "      <td>0</td>\n",
       "      <td>0</td>\n",
       "      <td>0</td>\n",
       "      <td>0</td>\n",
       "      <td>6</td>\n",
       "      <td>2008</td>\n",
       "      <td>WD</td>\n",
       "      <td>Normal</td>\n",
       "      <td>147500</td>\n",
       "    </tr>\n",
       "  </tbody>\n",
       "</table>\n",
       "<p>1460 rows × 76 columns</p>\n",
       "</div>"
      ],
      "text/plain": [
       "        Id  MSSubClass MSZoning  LotFrontage  LotArea Street LotShape  \\\n",
       "0        1          60       RL         65.0     8450   Pave      Reg   \n",
       "1        2          20       RL         80.0     9600   Pave      Reg   \n",
       "2        3          60       RL         68.0    11250   Pave      IR1   \n",
       "3        4          70       RL         60.0     9550   Pave      IR1   \n",
       "4        5          60       RL         84.0    14260   Pave      IR1   \n",
       "...    ...         ...      ...          ...      ...    ...      ...   \n",
       "1455  1456          60       RL         62.0     7917   Pave      Reg   \n",
       "1456  1457          20       RL         85.0    13175   Pave      Reg   \n",
       "1457  1458          70       RL         66.0     9042   Pave      Reg   \n",
       "1458  1459          20       RL         68.0     9717   Pave      Reg   \n",
       "1459  1460          20       RL         75.0     9937   Pave      Reg   \n",
       "\n",
       "     LandContour Utilities LotConfig  ... EnclosedPorch 3SsnPorch ScreenPorch  \\\n",
       "0            Lvl    AllPub    Inside  ...             0         0           0   \n",
       "1            Lvl    AllPub       FR2  ...             0         0           0   \n",
       "2            Lvl    AllPub    Inside  ...             0         0           0   \n",
       "3            Lvl    AllPub    Corner  ...           272         0           0   \n",
       "4            Lvl    AllPub       FR2  ...             0         0           0   \n",
       "...          ...       ...       ...  ...           ...       ...         ...   \n",
       "1455         Lvl    AllPub    Inside  ...             0         0           0   \n",
       "1456         Lvl    AllPub    Inside  ...             0         0           0   \n",
       "1457         Lvl    AllPub    Inside  ...             0         0           0   \n",
       "1458         Lvl    AllPub    Inside  ...           112         0           0   \n",
       "1459         Lvl    AllPub    Inside  ...             0         0           0   \n",
       "\n",
       "     PoolArea MiscVal MoSold  YrSold  SaleType  SaleCondition  SalePrice  \n",
       "0           0       0      2    2008        WD         Normal     208500  \n",
       "1           0       0      5    2007        WD         Normal     181500  \n",
       "2           0       0      9    2008        WD         Normal     223500  \n",
       "3           0       0      2    2006        WD        Abnorml     140000  \n",
       "4           0       0     12    2008        WD         Normal     250000  \n",
       "...       ...     ...    ...     ...       ...            ...        ...  \n",
       "1455        0       0      8    2007        WD         Normal     175000  \n",
       "1456        0       0      2    2010        WD         Normal     210000  \n",
       "1457        0    2500      5    2010        WD         Normal     266500  \n",
       "1458        0       0      4    2010        WD         Normal     142125  \n",
       "1459        0       0      6    2008        WD         Normal     147500  \n",
       "\n",
       "[1460 rows x 76 columns]"
      ]
     },
     "execution_count": 6,
     "metadata": {},
     "output_type": "execute_result"
    }
   ],
   "source": [
    "dftrain = dftrain.drop(columns = c, axis = 1)\n",
    "dftrain"
   ]
  },
  {
   "cell_type": "markdown",
   "id": "06a854d8",
   "metadata": {
    "papermill": {
     "duration": 0.007774,
     "end_time": "2023-02-02T12:58:26.035007",
     "exception": false,
     "start_time": "2023-02-02T12:58:26.027233",
     "status": "completed"
    },
    "tags": []
   },
   "source": [
    "I can see lots of 0s in dataset which wouldnt contribute the model so remvoing coloumns with lots of these values"
   ]
  },
  {
   "cell_type": "code",
   "execution_count": 7,
   "id": "f3e54b23",
   "metadata": {
    "execution": {
     "iopub.execute_input": "2023-02-02T12:58:26.054059Z",
     "iopub.status.busy": "2023-02-02T12:58:26.053050Z",
     "iopub.status.idle": "2023-02-02T12:58:26.084220Z",
     "shell.execute_reply": "2023-02-02T12:58:26.082882Z"
    },
    "papermill": {
     "duration": 0.045259,
     "end_time": "2023-02-02T12:58:26.088270",
     "exception": false,
     "start_time": "2023-02-02T12:58:26.043011",
     "status": "completed"
    },
    "tags": []
   },
   "outputs": [
    {
     "name": "stdout",
     "output_type": "stream",
     "text": [
      "BsmtFinSF1        467\n",
      "OpenPorchSF       656\n",
      "Fireplaces        690\n",
      "WoodDeckSF        761\n",
      "2ndFlrSF          829\n",
      "BsmtFullBath      856\n",
      "MasVnrArea        869\n",
      "HalfBath          913\n",
      "EnclosedPorch    1252\n",
      "BsmtFinSF2       1293\n",
      "ScreenPorch      1344\n",
      "BsmtHalfBath     1378\n",
      "MiscVal          1408\n",
      "LowQualFinSF     1434\n",
      "3SsnPorch        1436\n",
      "PoolArea         1453\n",
      "dtype: int64\n"
     ]
    }
   ],
   "source": [
    "zeros = dftrain.replace(0, np.nan)\n",
    "zeros = zeros.isna().sum()\n",
    "zeros = zeros[zeros > 300]\n",
    "zeros.sort_values(inplace = True)\n",
    "print(zeros)"
   ]
  },
  {
   "cell_type": "code",
   "execution_count": 8,
   "id": "18b18305",
   "metadata": {
    "execution": {
     "iopub.execute_input": "2023-02-02T12:58:26.112858Z",
     "iopub.status.busy": "2023-02-02T12:58:26.111954Z",
     "iopub.status.idle": "2023-02-02T12:58:26.120236Z",
     "shell.execute_reply": "2023-02-02T12:58:26.119049Z"
    },
    "papermill": {
     "duration": 0.021255,
     "end_time": "2023-02-02T12:58:26.123223",
     "exception": false,
     "start_time": "2023-02-02T12:58:26.101968",
     "status": "completed"
    },
    "tags": []
   },
   "outputs": [
    {
     "data": {
      "text/plain": [
       "array(['BsmtFinSF1', 'OpenPorchSF', 'Fireplaces', 'WoodDeckSF',\n",
       "       '2ndFlrSF', 'BsmtFullBath', 'MasVnrArea', 'HalfBath',\n",
       "       'EnclosedPorch', 'BsmtFinSF2', 'ScreenPorch', 'BsmtHalfBath',\n",
       "       'MiscVal', 'LowQualFinSF', '3SsnPorch', 'PoolArea'], dtype=object)"
      ]
     },
     "execution_count": 8,
     "metadata": {},
     "output_type": "execute_result"
    }
   ],
   "source": [
    "c = zeros.index\n",
    "np.array(c)"
   ]
  },
  {
   "cell_type": "code",
   "execution_count": 9,
   "id": "33ecac32",
   "metadata": {
    "execution": {
     "iopub.execute_input": "2023-02-02T12:58:26.152977Z",
     "iopub.status.busy": "2023-02-02T12:58:26.151576Z",
     "iopub.status.idle": "2023-02-02T12:58:26.197554Z",
     "shell.execute_reply": "2023-02-02T12:58:26.195711Z"
    },
    "papermill": {
     "duration": 0.064892,
     "end_time": "2023-02-02T12:58:26.201730",
     "exception": false,
     "start_time": "2023-02-02T12:58:26.136838",
     "status": "completed"
    },
    "tags": []
   },
   "outputs": [
    {
     "data": {
      "text/html": [
       "<div>\n",
       "<style scoped>\n",
       "    .dataframe tbody tr th:only-of-type {\n",
       "        vertical-align: middle;\n",
       "    }\n",
       "\n",
       "    .dataframe tbody tr th {\n",
       "        vertical-align: top;\n",
       "    }\n",
       "\n",
       "    .dataframe thead th {\n",
       "        text-align: right;\n",
       "    }\n",
       "</style>\n",
       "<table border=\"1\" class=\"dataframe\">\n",
       "  <thead>\n",
       "    <tr style=\"text-align: right;\">\n",
       "      <th></th>\n",
       "      <th>Id</th>\n",
       "      <th>MSSubClass</th>\n",
       "      <th>MSZoning</th>\n",
       "      <th>LotFrontage</th>\n",
       "      <th>LotArea</th>\n",
       "      <th>Street</th>\n",
       "      <th>LotShape</th>\n",
       "      <th>LandContour</th>\n",
       "      <th>Utilities</th>\n",
       "      <th>LotConfig</th>\n",
       "      <th>...</th>\n",
       "      <th>GarageCars</th>\n",
       "      <th>GarageArea</th>\n",
       "      <th>GarageQual</th>\n",
       "      <th>GarageCond</th>\n",
       "      <th>PavedDrive</th>\n",
       "      <th>MoSold</th>\n",
       "      <th>YrSold</th>\n",
       "      <th>SaleType</th>\n",
       "      <th>SaleCondition</th>\n",
       "      <th>SalePrice</th>\n",
       "    </tr>\n",
       "  </thead>\n",
       "  <tbody>\n",
       "    <tr>\n",
       "      <th>0</th>\n",
       "      <td>1</td>\n",
       "      <td>60</td>\n",
       "      <td>RL</td>\n",
       "      <td>65.0</td>\n",
       "      <td>8450</td>\n",
       "      <td>Pave</td>\n",
       "      <td>Reg</td>\n",
       "      <td>Lvl</td>\n",
       "      <td>AllPub</td>\n",
       "      <td>Inside</td>\n",
       "      <td>...</td>\n",
       "      <td>2</td>\n",
       "      <td>548</td>\n",
       "      <td>TA</td>\n",
       "      <td>TA</td>\n",
       "      <td>Y</td>\n",
       "      <td>2</td>\n",
       "      <td>2008</td>\n",
       "      <td>WD</td>\n",
       "      <td>Normal</td>\n",
       "      <td>208500</td>\n",
       "    </tr>\n",
       "    <tr>\n",
       "      <th>1</th>\n",
       "      <td>2</td>\n",
       "      <td>20</td>\n",
       "      <td>RL</td>\n",
       "      <td>80.0</td>\n",
       "      <td>9600</td>\n",
       "      <td>Pave</td>\n",
       "      <td>Reg</td>\n",
       "      <td>Lvl</td>\n",
       "      <td>AllPub</td>\n",
       "      <td>FR2</td>\n",
       "      <td>...</td>\n",
       "      <td>2</td>\n",
       "      <td>460</td>\n",
       "      <td>TA</td>\n",
       "      <td>TA</td>\n",
       "      <td>Y</td>\n",
       "      <td>5</td>\n",
       "      <td>2007</td>\n",
       "      <td>WD</td>\n",
       "      <td>Normal</td>\n",
       "      <td>181500</td>\n",
       "    </tr>\n",
       "    <tr>\n",
       "      <th>2</th>\n",
       "      <td>3</td>\n",
       "      <td>60</td>\n",
       "      <td>RL</td>\n",
       "      <td>68.0</td>\n",
       "      <td>11250</td>\n",
       "      <td>Pave</td>\n",
       "      <td>IR1</td>\n",
       "      <td>Lvl</td>\n",
       "      <td>AllPub</td>\n",
       "      <td>Inside</td>\n",
       "      <td>...</td>\n",
       "      <td>2</td>\n",
       "      <td>608</td>\n",
       "      <td>TA</td>\n",
       "      <td>TA</td>\n",
       "      <td>Y</td>\n",
       "      <td>9</td>\n",
       "      <td>2008</td>\n",
       "      <td>WD</td>\n",
       "      <td>Normal</td>\n",
       "      <td>223500</td>\n",
       "    </tr>\n",
       "    <tr>\n",
       "      <th>3</th>\n",
       "      <td>4</td>\n",
       "      <td>70</td>\n",
       "      <td>RL</td>\n",
       "      <td>60.0</td>\n",
       "      <td>9550</td>\n",
       "      <td>Pave</td>\n",
       "      <td>IR1</td>\n",
       "      <td>Lvl</td>\n",
       "      <td>AllPub</td>\n",
       "      <td>Corner</td>\n",
       "      <td>...</td>\n",
       "      <td>3</td>\n",
       "      <td>642</td>\n",
       "      <td>TA</td>\n",
       "      <td>TA</td>\n",
       "      <td>Y</td>\n",
       "      <td>2</td>\n",
       "      <td>2006</td>\n",
       "      <td>WD</td>\n",
       "      <td>Abnorml</td>\n",
       "      <td>140000</td>\n",
       "    </tr>\n",
       "    <tr>\n",
       "      <th>4</th>\n",
       "      <td>5</td>\n",
       "      <td>60</td>\n",
       "      <td>RL</td>\n",
       "      <td>84.0</td>\n",
       "      <td>14260</td>\n",
       "      <td>Pave</td>\n",
       "      <td>IR1</td>\n",
       "      <td>Lvl</td>\n",
       "      <td>AllPub</td>\n",
       "      <td>FR2</td>\n",
       "      <td>...</td>\n",
       "      <td>3</td>\n",
       "      <td>836</td>\n",
       "      <td>TA</td>\n",
       "      <td>TA</td>\n",
       "      <td>Y</td>\n",
       "      <td>12</td>\n",
       "      <td>2008</td>\n",
       "      <td>WD</td>\n",
       "      <td>Normal</td>\n",
       "      <td>250000</td>\n",
       "    </tr>\n",
       "    <tr>\n",
       "      <th>...</th>\n",
       "      <td>...</td>\n",
       "      <td>...</td>\n",
       "      <td>...</td>\n",
       "      <td>...</td>\n",
       "      <td>...</td>\n",
       "      <td>...</td>\n",
       "      <td>...</td>\n",
       "      <td>...</td>\n",
       "      <td>...</td>\n",
       "      <td>...</td>\n",
       "      <td>...</td>\n",
       "      <td>...</td>\n",
       "      <td>...</td>\n",
       "      <td>...</td>\n",
       "      <td>...</td>\n",
       "      <td>...</td>\n",
       "      <td>...</td>\n",
       "      <td>...</td>\n",
       "      <td>...</td>\n",
       "      <td>...</td>\n",
       "      <td>...</td>\n",
       "    </tr>\n",
       "    <tr>\n",
       "      <th>1455</th>\n",
       "      <td>1456</td>\n",
       "      <td>60</td>\n",
       "      <td>RL</td>\n",
       "      <td>62.0</td>\n",
       "      <td>7917</td>\n",
       "      <td>Pave</td>\n",
       "      <td>Reg</td>\n",
       "      <td>Lvl</td>\n",
       "      <td>AllPub</td>\n",
       "      <td>Inside</td>\n",
       "      <td>...</td>\n",
       "      <td>2</td>\n",
       "      <td>460</td>\n",
       "      <td>TA</td>\n",
       "      <td>TA</td>\n",
       "      <td>Y</td>\n",
       "      <td>8</td>\n",
       "      <td>2007</td>\n",
       "      <td>WD</td>\n",
       "      <td>Normal</td>\n",
       "      <td>175000</td>\n",
       "    </tr>\n",
       "    <tr>\n",
       "      <th>1456</th>\n",
       "      <td>1457</td>\n",
       "      <td>20</td>\n",
       "      <td>RL</td>\n",
       "      <td>85.0</td>\n",
       "      <td>13175</td>\n",
       "      <td>Pave</td>\n",
       "      <td>Reg</td>\n",
       "      <td>Lvl</td>\n",
       "      <td>AllPub</td>\n",
       "      <td>Inside</td>\n",
       "      <td>...</td>\n",
       "      <td>2</td>\n",
       "      <td>500</td>\n",
       "      <td>TA</td>\n",
       "      <td>TA</td>\n",
       "      <td>Y</td>\n",
       "      <td>2</td>\n",
       "      <td>2010</td>\n",
       "      <td>WD</td>\n",
       "      <td>Normal</td>\n",
       "      <td>210000</td>\n",
       "    </tr>\n",
       "    <tr>\n",
       "      <th>1457</th>\n",
       "      <td>1458</td>\n",
       "      <td>70</td>\n",
       "      <td>RL</td>\n",
       "      <td>66.0</td>\n",
       "      <td>9042</td>\n",
       "      <td>Pave</td>\n",
       "      <td>Reg</td>\n",
       "      <td>Lvl</td>\n",
       "      <td>AllPub</td>\n",
       "      <td>Inside</td>\n",
       "      <td>...</td>\n",
       "      <td>1</td>\n",
       "      <td>252</td>\n",
       "      <td>TA</td>\n",
       "      <td>TA</td>\n",
       "      <td>Y</td>\n",
       "      <td>5</td>\n",
       "      <td>2010</td>\n",
       "      <td>WD</td>\n",
       "      <td>Normal</td>\n",
       "      <td>266500</td>\n",
       "    </tr>\n",
       "    <tr>\n",
       "      <th>1458</th>\n",
       "      <td>1459</td>\n",
       "      <td>20</td>\n",
       "      <td>RL</td>\n",
       "      <td>68.0</td>\n",
       "      <td>9717</td>\n",
       "      <td>Pave</td>\n",
       "      <td>Reg</td>\n",
       "      <td>Lvl</td>\n",
       "      <td>AllPub</td>\n",
       "      <td>Inside</td>\n",
       "      <td>...</td>\n",
       "      <td>1</td>\n",
       "      <td>240</td>\n",
       "      <td>TA</td>\n",
       "      <td>TA</td>\n",
       "      <td>Y</td>\n",
       "      <td>4</td>\n",
       "      <td>2010</td>\n",
       "      <td>WD</td>\n",
       "      <td>Normal</td>\n",
       "      <td>142125</td>\n",
       "    </tr>\n",
       "    <tr>\n",
       "      <th>1459</th>\n",
       "      <td>1460</td>\n",
       "      <td>20</td>\n",
       "      <td>RL</td>\n",
       "      <td>75.0</td>\n",
       "      <td>9937</td>\n",
       "      <td>Pave</td>\n",
       "      <td>Reg</td>\n",
       "      <td>Lvl</td>\n",
       "      <td>AllPub</td>\n",
       "      <td>Inside</td>\n",
       "      <td>...</td>\n",
       "      <td>1</td>\n",
       "      <td>276</td>\n",
       "      <td>TA</td>\n",
       "      <td>TA</td>\n",
       "      <td>Y</td>\n",
       "      <td>6</td>\n",
       "      <td>2008</td>\n",
       "      <td>WD</td>\n",
       "      <td>Normal</td>\n",
       "      <td>147500</td>\n",
       "    </tr>\n",
       "  </tbody>\n",
       "</table>\n",
       "<p>1460 rows × 60 columns</p>\n",
       "</div>"
      ],
      "text/plain": [
       "        Id  MSSubClass MSZoning  LotFrontage  LotArea Street LotShape  \\\n",
       "0        1          60       RL         65.0     8450   Pave      Reg   \n",
       "1        2          20       RL         80.0     9600   Pave      Reg   \n",
       "2        3          60       RL         68.0    11250   Pave      IR1   \n",
       "3        4          70       RL         60.0     9550   Pave      IR1   \n",
       "4        5          60       RL         84.0    14260   Pave      IR1   \n",
       "...    ...         ...      ...          ...      ...    ...      ...   \n",
       "1455  1456          60       RL         62.0     7917   Pave      Reg   \n",
       "1456  1457          20       RL         85.0    13175   Pave      Reg   \n",
       "1457  1458          70       RL         66.0     9042   Pave      Reg   \n",
       "1458  1459          20       RL         68.0     9717   Pave      Reg   \n",
       "1459  1460          20       RL         75.0     9937   Pave      Reg   \n",
       "\n",
       "     LandContour Utilities LotConfig  ... GarageCars GarageArea GarageQual  \\\n",
       "0            Lvl    AllPub    Inside  ...          2        548         TA   \n",
       "1            Lvl    AllPub       FR2  ...          2        460         TA   \n",
       "2            Lvl    AllPub    Inside  ...          2        608         TA   \n",
       "3            Lvl    AllPub    Corner  ...          3        642         TA   \n",
       "4            Lvl    AllPub       FR2  ...          3        836         TA   \n",
       "...          ...       ...       ...  ...        ...        ...        ...   \n",
       "1455         Lvl    AllPub    Inside  ...          2        460         TA   \n",
       "1456         Lvl    AllPub    Inside  ...          2        500         TA   \n",
       "1457         Lvl    AllPub    Inside  ...          1        252         TA   \n",
       "1458         Lvl    AllPub    Inside  ...          1        240         TA   \n",
       "1459         Lvl    AllPub    Inside  ...          1        276         TA   \n",
       "\n",
       "     GarageCond PavedDrive MoSold  YrSold  SaleType  SaleCondition  SalePrice  \n",
       "0            TA          Y      2    2008        WD         Normal     208500  \n",
       "1            TA          Y      5    2007        WD         Normal     181500  \n",
       "2            TA          Y      9    2008        WD         Normal     223500  \n",
       "3            TA          Y      2    2006        WD        Abnorml     140000  \n",
       "4            TA          Y     12    2008        WD         Normal     250000  \n",
       "...         ...        ...    ...     ...       ...            ...        ...  \n",
       "1455         TA          Y      8    2007        WD         Normal     175000  \n",
       "1456         TA          Y      2    2010        WD         Normal     210000  \n",
       "1457         TA          Y      5    2010        WD         Normal     266500  \n",
       "1458         TA          Y      4    2010        WD         Normal     142125  \n",
       "1459         TA          Y      6    2008        WD         Normal     147500  \n",
       "\n",
       "[1460 rows x 60 columns]"
      ]
     },
     "execution_count": 9,
     "metadata": {},
     "output_type": "execute_result"
    }
   ],
   "source": [
    "dftrain.drop(columns = c, axis = 1)"
   ]
  },
  {
   "cell_type": "markdown",
   "id": "2db08e39",
   "metadata": {
    "papermill": {
     "duration": 0.008835,
     "end_time": "2023-02-02T12:58:26.219856",
     "exception": false,
     "start_time": "2023-02-02T12:58:26.211021",
     "status": "completed"
    },
    "tags": []
   },
   "source": [
    "# Feature selection\n",
    "\n",
    "Find columns with high correlation to the outcome 'Sale Price' "
   ]
  },
  {
   "cell_type": "code",
   "execution_count": 10,
   "id": "1b601ca7",
   "metadata": {
    "execution": {
     "iopub.execute_input": "2023-02-02T12:58:26.239993Z",
     "iopub.status.busy": "2023-02-02T12:58:26.239506Z",
     "iopub.status.idle": "2023-02-02T12:58:27.277905Z",
     "shell.execute_reply": "2023-02-02T12:58:27.276307Z"
    },
    "papermill": {
     "duration": 1.051917,
     "end_time": "2023-02-02T12:58:27.280720",
     "exception": false,
     "start_time": "2023-02-02T12:58:26.228803",
     "status": "completed"
    },
    "tags": []
   },
   "outputs": [
    {
     "data": {
      "text/plain": [
       "<AxesSubplot:>"
      ]
     },
     "execution_count": 10,
     "metadata": {},
     "output_type": "execute_result"
    },
    {
     "data": {
      "image/png": "[encoded data removed]",
      "text/plain": [
       "<Figure size 720x720 with 2 Axes>"
      ]
     },
     "metadata": {
      "needs_background": "light"
     },
     "output_type": "display_data"
    }
   ],
   "source": [
    "plt.figure(figsize=(10,10))\n",
    "sns.heatmap(dftrain.corr())"
   ]
  },
  {
   "cell_type": "code",
   "execution_count": 11,
   "id": "d84e3b22",
   "metadata": {
    "execution": {
     "iopub.execute_input": "2023-02-02T12:58:27.303240Z",
     "iopub.status.busy": "2023-02-02T12:58:27.302795Z",
     "iopub.status.idle": "2023-02-02T12:58:27.336971Z",
     "shell.execute_reply": "2023-02-02T12:58:27.335592Z"
    },
    "papermill": {
     "duration": 0.048828,
     "end_time": "2023-02-02T12:58:27.339955",
     "exception": false,
     "start_time": "2023-02-02T12:58:27.291127",
     "status": "completed"
    },
    "tags": []
   },
   "outputs": [
    {
     "data": {
      "text/plain": [
       "['OverallQual',\n",
       " 'YearBuilt',\n",
       " 'YearRemodAdd',\n",
       " 'MasVnrArea',\n",
       " 'TotalBsmtSF',\n",
       " '1stFlrSF',\n",
       " 'GrLivArea',\n",
       " 'FullBath',\n",
       " 'TotRmsAbvGrd',\n",
       " 'Fireplaces',\n",
       " 'GarageYrBlt',\n",
       " 'GarageCars',\n",
       " 'GarageArea',\n",
       " 'SalePrice']"
      ]
     },
     "execution_count": 11,
     "metadata": {},
     "output_type": "execute_result"
    }
   ],
   "source": [
    "important_num_cols = list(dftrain.corr()\n",
    "                        [\"SalePrice\"][(dftrain.corr()[\"SalePrice\"]>0.40) \n",
    "                        |\n",
    "                        (dftrain.corr()[\"SalePrice\"]<-0.40)].index)\n",
    "important_num_cols"
   ]
  },
  {
   "cell_type": "code",
   "execution_count": 12,
   "id": "dba6021d",
   "metadata": {
    "execution": {
     "iopub.execute_input": "2023-02-02T12:58:27.362858Z",
     "iopub.status.busy": "2023-02-02T12:58:27.362407Z",
     "iopub.status.idle": "2023-02-02T12:58:27.816674Z",
     "shell.execute_reply": "2023-02-02T12:58:27.814997Z"
    },
    "papermill": {
     "duration": 0.469235,
     "end_time": "2023-02-02T12:58:27.819632",
     "exception": false,
     "start_time": "2023-02-02T12:58:27.350397",
     "status": "completed"
    },
    "tags": []
   },
   "outputs": [
    {
     "data": {
      "text/plain": [
       "<AxesSubplot:>"
      ]
     },
     "execution_count": 12,
     "metadata": {},
     "output_type": "execute_result"
    },
    {
     "data": {
      "image/png": "[encoded data removed]",
      "text/plain": [
       "<Figure size 720x720 with 2 Axes>"
      ]
     },
     "metadata": {
      "needs_background": "light"
     },
     "output_type": "display_data"
    }
   ],
   "source": [
    "numcols = dftrain[dftrain.columns.intersection(important_num_cols)]\n",
    "plt.figure(figsize=(10,10))\n",
    "sns.heatmap(numcols.corr())"
   ]
  },
  {
   "cell_type": "code",
   "execution_count": 13,
   "id": "265c2773",
   "metadata": {
    "execution": {
     "iopub.execute_input": "2023-02-02T12:58:27.844161Z",
     "iopub.status.busy": "2023-02-02T12:58:27.843664Z",
     "iopub.status.idle": "2023-02-02T12:58:27.865652Z",
     "shell.execute_reply": "2023-02-02T12:58:27.864126Z"
    },
    "papermill": {
     "duration": 0.037505,
     "end_time": "2023-02-02T12:58:27.868467",
     "exception": false,
     "start_time": "2023-02-02T12:58:27.830962",
     "status": "completed"
    },
    "tags": []
   },
   "outputs": [
    {
     "data": {
      "text/html": [
       "<div>\n",
       "<style scoped>\n",
       "    .dataframe tbody tr th:only-of-type {\n",
       "        vertical-align: middle;\n",
       "    }\n",
       "\n",
       "    .dataframe tbody tr th {\n",
       "        vertical-align: top;\n",
       "    }\n",
       "\n",
       "    .dataframe thead th {\n",
       "        text-align: right;\n",
       "    }\n",
       "</style>\n",
       "<table border=\"1\" class=\"dataframe\">\n",
       "  <thead>\n",
       "    <tr style=\"text-align: right;\">\n",
       "      <th></th>\n",
       "      <th>OverallQual</th>\n",
       "      <th>YearBuilt</th>\n",
       "      <th>MasVnrArea</th>\n",
       "      <th>TotalBsmtSF</th>\n",
       "      <th>GrLivArea</th>\n",
       "      <th>FullBath</th>\n",
       "      <th>Fireplaces</th>\n",
       "      <th>GarageArea</th>\n",
       "      <th>SalePrice</th>\n",
       "    </tr>\n",
       "  </thead>\n",
       "  <tbody>\n",
       "    <tr>\n",
       "      <th>0</th>\n",
       "      <td>7</td>\n",
       "      <td>2003</td>\n",
       "      <td>196.0</td>\n",
       "      <td>856</td>\n",
       "      <td>1710</td>\n",
       "      <td>2</td>\n",
       "      <td>0</td>\n",
       "      <td>548</td>\n",
       "      <td>208500</td>\n",
       "    </tr>\n",
       "    <tr>\n",
       "      <th>1</th>\n",
       "      <td>6</td>\n",
       "      <td>1976</td>\n",
       "      <td>0.0</td>\n",
       "      <td>1262</td>\n",
       "      <td>1262</td>\n",
       "      <td>2</td>\n",
       "      <td>1</td>\n",
       "      <td>460</td>\n",
       "      <td>181500</td>\n",
       "    </tr>\n",
       "    <tr>\n",
       "      <th>2</th>\n",
       "      <td>7</td>\n",
       "      <td>2001</td>\n",
       "      <td>162.0</td>\n",
       "      <td>920</td>\n",
       "      <td>1786</td>\n",
       "      <td>2</td>\n",
       "      <td>1</td>\n",
       "      <td>608</td>\n",
       "      <td>223500</td>\n",
       "    </tr>\n",
       "    <tr>\n",
       "      <th>3</th>\n",
       "      <td>7</td>\n",
       "      <td>1915</td>\n",
       "      <td>0.0</td>\n",
       "      <td>756</td>\n",
       "      <td>1717</td>\n",
       "      <td>1</td>\n",
       "      <td>1</td>\n",
       "      <td>642</td>\n",
       "      <td>140000</td>\n",
       "    </tr>\n",
       "    <tr>\n",
       "      <th>4</th>\n",
       "      <td>8</td>\n",
       "      <td>2000</td>\n",
       "      <td>350.0</td>\n",
       "      <td>1145</td>\n",
       "      <td>2198</td>\n",
       "      <td>2</td>\n",
       "      <td>1</td>\n",
       "      <td>836</td>\n",
       "      <td>250000</td>\n",
       "    </tr>\n",
       "    <tr>\n",
       "      <th>...</th>\n",
       "      <td>...</td>\n",
       "      <td>...</td>\n",
       "      <td>...</td>\n",
       "      <td>...</td>\n",
       "      <td>...</td>\n",
       "      <td>...</td>\n",
       "      <td>...</td>\n",
       "      <td>...</td>\n",
       "      <td>...</td>\n",
       "    </tr>\n",
       "    <tr>\n",
       "      <th>1455</th>\n",
       "      <td>6</td>\n",
       "      <td>1999</td>\n",
       "      <td>0.0</td>\n",
       "      <td>953</td>\n",
       "      <td>1647</td>\n",
       "      <td>2</td>\n",
       "      <td>1</td>\n",
       "      <td>460</td>\n",
       "      <td>175000</td>\n",
       "    </tr>\n",
       "    <tr>\n",
       "      <th>1456</th>\n",
       "      <td>6</td>\n",
       "      <td>1978</td>\n",
       "      <td>119.0</td>\n",
       "      <td>1542</td>\n",
       "      <td>2073</td>\n",
       "      <td>2</td>\n",
       "      <td>2</td>\n",
       "      <td>500</td>\n",
       "      <td>210000</td>\n",
       "    </tr>\n",
       "    <tr>\n",
       "      <th>1457</th>\n",
       "      <td>7</td>\n",
       "      <td>1941</td>\n",
       "      <td>0.0</td>\n",
       "      <td>1152</td>\n",
       "      <td>2340</td>\n",
       "      <td>2</td>\n",
       "      <td>2</td>\n",
       "      <td>252</td>\n",
       "      <td>266500</td>\n",
       "    </tr>\n",
       "    <tr>\n",
       "      <th>1458</th>\n",
       "      <td>5</td>\n",
       "      <td>1950</td>\n",
       "      <td>0.0</td>\n",
       "      <td>1078</td>\n",
       "      <td>1078</td>\n",
       "      <td>1</td>\n",
       "      <td>0</td>\n",
       "      <td>240</td>\n",
       "      <td>142125</td>\n",
       "    </tr>\n",
       "    <tr>\n",
       "      <th>1459</th>\n",
       "      <td>5</td>\n",
       "      <td>1965</td>\n",
       "      <td>0.0</td>\n",
       "      <td>1256</td>\n",
       "      <td>1256</td>\n",
       "      <td>1</td>\n",
       "      <td>0</td>\n",
       "      <td>276</td>\n",
       "      <td>147500</td>\n",
       "    </tr>\n",
       "  </tbody>\n",
       "</table>\n",
       "<p>1460 rows × 9 columns</p>\n",
       "</div>"
      ],
      "text/plain": [
       "      OverallQual  YearBuilt  MasVnrArea  TotalBsmtSF  GrLivArea  FullBath  \\\n",
       "0               7       2003       196.0          856       1710         2   \n",
       "1               6       1976         0.0         1262       1262         2   \n",
       "2               7       2001       162.0          920       1786         2   \n",
       "3               7       1915         0.0          756       1717         1   \n",
       "4               8       2000       350.0         1145       2198         2   \n",
       "...           ...        ...         ...          ...        ...       ...   \n",
       "1455            6       1999         0.0          953       1647         2   \n",
       "1456            6       1978       119.0         1542       2073         2   \n",
       "1457            7       1941         0.0         1152       2340         2   \n",
       "1458            5       1950         0.0         1078       1078         1   \n",
       "1459            5       1965         0.0         1256       1256         1   \n",
       "\n",
       "      Fireplaces  GarageArea  SalePrice  \n",
       "0              0         548     208500  \n",
       "1              1         460     181500  \n",
       "2              1         608     223500  \n",
       "3              1         642     140000  \n",
       "4              1         836     250000  \n",
       "...          ...         ...        ...  \n",
       "1455           1         460     175000  \n",
       "1456           2         500     210000  \n",
       "1457           2         252     266500  \n",
       "1458           0         240     142125  \n",
       "1459           0         276     147500  \n",
       "\n",
       "[1460 rows x 9 columns]"
      ]
     },
     "execution_count": 13,
     "metadata": {},
     "output_type": "execute_result"
    }
   ],
   "source": [
    "c = ['1stFlrSF', 'GarageCars', 'TotRmsAbvGrd', 'GarageYrBlt', 'YearRemodAdd']\n",
    "numcols = numcols.drop(columns = c, axis = 1)\n",
    "numcols"
   ]
  },
  {
   "cell_type": "code",
   "execution_count": 14,
   "id": "fa9c653a",
   "metadata": {
    "execution": {
     "iopub.execute_input": "2023-02-02T12:58:27.894200Z",
     "iopub.status.busy": "2023-02-02T12:58:27.893741Z",
     "iopub.status.idle": "2023-02-02T12:58:27.901554Z",
     "shell.execute_reply": "2023-02-02T12:58:27.900191Z"
    },
    "papermill": {
     "duration": 0.023946,
     "end_time": "2023-02-02T12:58:27.904208",
     "exception": false,
     "start_time": "2023-02-02T12:58:27.880262",
     "status": "completed"
    },
    "tags": []
   },
   "outputs": [],
   "source": [
    "X = numcols.drop(\"SalePrice\",axis=1)\n",
    "y = numcols[\"SalePrice\"]"
   ]
  },
  {
   "cell_type": "code",
   "execution_count": 15,
   "id": "70b0d1cc",
   "metadata": {
    "execution": {
     "iopub.execute_input": "2023-02-02T12:58:27.929781Z",
     "iopub.status.busy": "2023-02-02T12:58:27.928679Z",
     "iopub.status.idle": "2023-02-02T12:58:27.935656Z",
     "shell.execute_reply": "2023-02-02T12:58:27.934372Z"
    },
    "papermill": {
     "duration": 0.022459,
     "end_time": "2023-02-02T12:58:27.938077",
     "exception": false,
     "start_time": "2023-02-02T12:58:27.915618",
     "status": "completed"
    },
    "tags": []
   },
   "outputs": [],
   "source": [
    "X = X.fillna(0)"
   ]
  },
  {
   "cell_type": "code",
   "execution_count": 16,
   "id": "a21044ae",
   "metadata": {
    "execution": {
     "iopub.execute_input": "2023-02-02T12:58:27.963145Z",
     "iopub.status.busy": "2023-02-02T12:58:27.962658Z",
     "iopub.status.idle": "2023-02-02T12:58:28.138123Z",
     "shell.execute_reply": "2023-02-02T12:58:28.136595Z"
    },
    "papermill": {
     "duration": 0.191663,
     "end_time": "2023-02-02T12:58:28.141223",
     "exception": false,
     "start_time": "2023-02-02T12:58:27.949560",
     "status": "completed"
    },
    "tags": []
   },
   "outputs": [],
   "source": [
    "from sklearn.preprocessing import StandardScaler\n",
    "\n",
    "scaler = StandardScaler()\n",
    "X = scaler.fit_transform(X)\n",
    "X = pd.DataFrame(X)"
   ]
  },
  {
   "cell_type": "code",
   "execution_count": 17,
   "id": "f5462e8f",
   "metadata": {
    "execution": {
     "iopub.execute_input": "2023-02-02T12:58:28.165913Z",
     "iopub.status.busy": "2023-02-02T12:58:28.165434Z",
     "iopub.status.idle": "2023-02-02T12:58:28.238135Z",
     "shell.execute_reply": "2023-02-02T12:58:28.236779Z"
    },
    "papermill": {
     "duration": 0.088536,
     "end_time": "2023-02-02T12:58:28.241313",
     "exception": false,
     "start_time": "2023-02-02T12:58:28.152777",
     "status": "completed"
    },
    "tags": []
   },
   "outputs": [],
   "source": [
    "from sklearn.model_selection import train_test_split,cross_val_score\n",
    "X_train,X_test,y_train,y_test=train_test_split(X,y,test_size=0.2,random_state=42)"
   ]
  },
  {
   "cell_type": "markdown",
   "id": "5f10535a",
   "metadata": {
    "papermill": {
     "duration": 0.01132,
     "end_time": "2023-02-02T12:58:28.263993",
     "exception": false,
     "start_time": "2023-02-02T12:58:28.252673",
     "status": "completed"
    },
    "tags": []
   },
   "source": [
    "Linear regression"
   ]
  },
  {
   "cell_type": "code",
   "execution_count": 18,
   "id": "cbb90e0c",
   "metadata": {
    "execution": {
     "iopub.execute_input": "2023-02-02T12:58:28.289720Z",
     "iopub.status.busy": "2023-02-02T12:58:28.289240Z",
     "iopub.status.idle": "2023-02-02T12:58:28.410426Z",
     "shell.execute_reply": "2023-02-02T12:58:28.408908Z"
    },
    "papermill": {
     "duration": 0.137661,
     "end_time": "2023-02-02T12:58:28.413628",
     "exception": false,
     "start_time": "2023-02-02T12:58:28.275967",
     "status": "completed"
    },
    "tags": []
   },
   "outputs": [],
   "source": [
    "from sklearn.linear_model import LinearRegression\n",
    "\n",
    "lr=LinearRegression()\n",
    "lr.fit(X_train,y_train)\n",
    "pred = lr.predict(X_test)"
   ]
  },
  {
   "cell_type": "code",
   "execution_count": 19,
   "id": "cc641cd4",
   "metadata": {
    "execution": {
     "iopub.execute_input": "2023-02-02T12:58:28.438665Z",
     "iopub.status.busy": "2023-02-02T12:58:28.438190Z",
     "iopub.status.idle": "2023-02-02T12:58:28.452775Z",
     "shell.execute_reply": "2023-02-02T12:58:28.450930Z"
    },
    "papermill": {
     "duration": 0.030426,
     "end_time": "2023-02-02T12:58:28.455739",
     "exception": false,
     "start_time": "2023-02-02T12:58:28.425313",
     "status": "completed"
    },
    "tags": []
   },
   "outputs": [
    {
     "name": "stdout",
     "output_type": "stream",
     "text": [
      "mae= 24730.61558066875\n",
      "mse= 1498460047.9698477\n",
      "rmse= 38709.94766167797\n",
      "r2= 0.8046419399261292\n"
     ]
    }
   ],
   "source": [
    "from sklearn.metrics import r2_score,mean_absolute_error,mean_squared_error\n",
    "\n",
    "mae = mean_absolute_error(y_test,pred)\n",
    "mse = mean_squared_error(y_test,pred)\n",
    "rmse = np.sqrt(mse)\n",
    "r2 = r2_score(y_test,pred)\n",
    "\n",
    "print(\"mae=\",mae)\n",
    "print(\"mse=\",mse)\n",
    "print(\"rmse=\",rmse)\n",
    "print(\"r2=\",r2)"
   ]
  },
  {
   "cell_type": "markdown",
   "id": "5a24ebbe",
   "metadata": {
    "papermill": {
     "duration": 0.011526,
     "end_time": "2023-02-02T12:58:28.478993",
     "exception": false,
     "start_time": "2023-02-02T12:58:28.467467",
     "status": "completed"
    },
    "tags": []
   },
   "source": [
    "SVM"
   ]
  },
  {
   "cell_type": "code",
   "execution_count": 20,
   "id": "511544b3",
   "metadata": {
    "execution": {
     "iopub.execute_input": "2023-02-02T12:58:28.504542Z",
     "iopub.status.busy": "2023-02-02T12:58:28.504046Z",
     "iopub.status.idle": "2023-02-02T12:58:28.684216Z",
     "shell.execute_reply": "2023-02-02T12:58:28.682839Z"
    },
    "papermill": {
     "duration": 0.196244,
     "end_time": "2023-02-02T12:58:28.687074",
     "exception": false,
     "start_time": "2023-02-02T12:58:28.490830",
     "status": "completed"
    },
    "tags": []
   },
   "outputs": [],
   "source": [
    "from sklearn.svm import SVR\n",
    "\n",
    "svr=SVR(C=100000)\n",
    "svr.fit(X_train,y_train)\n",
    "pred=svr.predict(X_test)"
   ]
  },
  {
   "cell_type": "code",
   "execution_count": 21,
   "id": "6bdca482",
   "metadata": {
    "execution": {
     "iopub.execute_input": "2023-02-02T12:58:28.712321Z",
     "iopub.status.busy": "2023-02-02T12:58:28.711244Z",
     "iopub.status.idle": "2023-02-02T12:58:28.721821Z",
     "shell.execute_reply": "2023-02-02T12:58:28.720163Z"
    },
    "papermill": {
     "duration": 0.026863,
     "end_time": "2023-02-02T12:58:28.725334",
     "exception": false,
     "start_time": "2023-02-02T12:58:28.698471",
     "status": "completed"
    },
    "tags": []
   },
   "outputs": [
    {
     "name": "stdout",
     "output_type": "stream",
     "text": [
      "mae= 20798.77610369253\n",
      "mse= 1568164812.1730068\n",
      "rmse= 39600.060759713575\n",
      "r2= 0.7955543519513382\n"
     ]
    }
   ],
   "source": [
    "mae = mean_absolute_error(y_test,pred)\n",
    "mse = mean_squared_error(y_test,pred)\n",
    "rmse = np.sqrt(mse)\n",
    "r2 = r2_score(y_test,pred)\n",
    "\n",
    "print(\"mae=\",mae)\n",
    "print(\"mse=\",mse)\n",
    "print(\"rmse=\",rmse)\n",
    "print(\"r2=\",r2)"
   ]
  },
  {
   "cell_type": "code",
   "execution_count": 22,
   "id": "4b73859e",
   "metadata": {
    "execution": {
     "iopub.execute_input": "2023-02-02T12:58:28.751970Z",
     "iopub.status.busy": "2023-02-02T12:58:28.751444Z",
     "iopub.status.idle": "2023-02-02T12:58:28.790421Z",
     "shell.execute_reply": "2023-02-02T12:58:28.788013Z"
    },
    "papermill": {
     "duration": 0.066148,
     "end_time": "2023-02-02T12:58:28.803889",
     "exception": false,
     "start_time": "2023-02-02T12:58:28.737741",
     "status": "completed"
    },
    "tags": []
   },
   "outputs": [
    {
     "name": "stdout",
     "output_type": "stream",
     "text": [
      "mae= 22771.253676565313\n",
      "mse= 1194404311.775943\n",
      "rmse= 34560.15497326283\n",
      "r2= 0.8442824621126568\n"
     ]
    }
   ],
   "source": [
    "from sklearn.preprocessing import PolynomialFeatures\n",
    "\n",
    "poly = PolynomialFeatures(degree=2)\n",
    "X_train_2d = poly.fit_transform(X_train)\n",
    "X_test_2d = poly.transform(X_test)\n",
    "\n",
    "lr = LinearRegression()\n",
    "lr.fit(X_train_2d, y_train)\n",
    "pred = lr.predict(X_test_2d)\n",
    "\n",
    "#Getting Residuals\n",
    "mae = mean_absolute_error(y_test,pred)\n",
    "mse = mean_squared_error(y_test,pred)\n",
    "rmse = np.sqrt(mean_squared_error(y_test, pred))\n",
    "r2 = r2_score(y_test,pred)\n",
    "\n",
    "print(\"mae=\", mae)\n",
    "print(\"mse=\", mse)\n",
    "print(\"rmse=\", rmse)\n",
    "print(\"r2=\", r2)"
   ]
  }
 ],
 "metadata": {
  "kernelspec": {
   "display_name": "Python 3",
   "language": "python",
   "name": "python3"
  },
  "language_info": {
   "codemirror_mode": {
    "name": "ipython",
    "version": 3
   },
   "file_extension": ".py",
   "mimetype": "text/x-python",
   "name": "python",
   "nbconvert_exporter": "python",
   "pygments_lexer": "ipython3",
   "version": "3.7.12"
  },
  "papermill": {
   "default_parameters": {},
   "duration": 14.723113,
   "end_time": "2023-02-02T12:58:29.793382",
   "environment_variables": {},
   "exception": null,
   "input_path": "__notebook__.ipynb",
   "output_path": "__notebook__.ipynb",
   "parameters": {},
   "start_time": "2023-02-02T12:58:15.070269",
   "version": "2.3.4"
  }
 },
 "nbformat": 4,
 "nbformat_minor": 5
}
